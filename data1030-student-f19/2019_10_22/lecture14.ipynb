{
 "cells": [
  {
   "cell_type": "markdown",
   "metadata": {
    "slideshow": {
     "slide_type": "slide"
    }
   },
   "source": [
    "## <center> Go to piazza and open today's lecture notes in the hub! </center>\n",
    "## <center> https://piazza.com/class/jzioyk40mhs6r2 </center>\n",
    "## <center> Let's go to tophat for attendance! </center>\n",
    "## <center> https://app.tophat.com/e/245218 </center>"
   ]
  },
  {
   "cell_type": "markdown",
   "metadata": {
    "slideshow": {
     "slide_type": "slide"
    }
   },
   "source": [
    "## Admin\n",
    "- **October 24:** I will go through some of the home work problems.\n",
    "   - please collect the top 3 problems you'd like me to go over (e.g., HW3  problem 1a).\n",
    "   - I'll ask you to vote on tophat on thursday and the problems with the most votes will be covered.\n",
    "- **October 29:** Midterm exam\n",
    "   - it's an open-book coding exam\n",
    "   - we will use the hub (fingers crossed)\n",
    "   - you can use whatever materials you'd like (lecture notes, stackoverflow, pandas and sklearn help)\n",
    "   - the only restriction is that you are not allowed to communicate with anyone in any way during the exam.\n",
    "- **October 31:** Guest lecturer\n",
    "   - August Guang from CCV will talk about their data science project. They analyzed survey data on how people perceive tipping points in time series data and what we can learn from that.\n",
    "- **November:** back to our regularly scheduled program "
   ]
  },
  {
   "cell_type": "markdown",
   "metadata": {
    "slideshow": {
     "slide_type": "slide"
    }
   },
   "source": [
    "## Mud card\n",
    "- **Is there ever a case where you would do brute force over gradient decent? did we go over brute force for teaching purposes?**\n",
    "   - You would never use brute force. Last class's coding material was for teaching purposes only. \n"
   ]
  },
  {
   "cell_type": "markdown",
   "metadata": {
    "slideshow": {
     "slide_type": "slide"
    }
   },
   "source": [
    "## Regularization and Logistic Regression\n",
    "\n",
    "By the end of this lecture, you will be able to\n",
    "- Describe why regularization is important and what are the two types of regularizations\n",
    "- Describe the logistic regression model\n",
    "- Describe the cost function with and without regularization in logistic regression\n"
   ]
  },
  {
   "cell_type": "markdown",
   "metadata": {
    "slideshow": {
     "slide_type": "slide"
    }
   },
   "source": [
    "## Recap gradient descent\n",
    "\n",
    "Linear regression model:\n",
    "\n",
    "<center>$y_i' = \\theta_0 + \\sum_{j=1}^{m} \\theta_j  x_{ij} $</center>\n",
    "\n",
    "The cost/loss/objective function:\n",
    "<center>$L(\\theta) = \\frac{1}{n}\\sum_{i=1}^{n}(y_i'-y_i)^2 = \\frac{1}{n}\\sum_{i=1}^{n}(\\theta_0 + \\sum_{j=1}^{m} \\theta_j  x_{ij}- y_i)^2$</center>\n",
    "\n",
    "Let's visualize $L(\\theta)$."
   ]
  },
  {
   "cell_type": "markdown",
   "metadata": {
    "slideshow": {
     "slide_type": "subslide"
    }
   },
   "source": [
    "### The cost function from last lecture (lin. reg. with one feature)\n",
    "\n",
    "<center><img src=\"figures/cost_function.png\" width=\"600\"></center>"
   ]
  },
  {
   "cell_type": "markdown",
   "metadata": {
    "slideshow": {
     "slide_type": "subslide"
    }
   },
   "source": [
    "### How do we find the best $\\theta$ values?\n",
    "- start with arbitrary initial $\\theta$ values\n",
    "- repeat until convergence:\n",
    "<center>$\\theta_j := \\theta_j - l \\frac{\\partial L(\\theta)}{\\partial \\theta_j} $, </center>\n",
    "<center>where $\\frac{\\partial L(\\theta)}{\\partial \\theta_j}$ is the gradient of the cost function at the current $\\theta$ location and $l$ is the learning rate.</center>\n",
    "\n",
    "   - the gradient tells us which way the cost function is the steepest\n",
    "   - the learning rate tells us how big of a step we take in that direction"
   ]
  },
  {
   "cell_type": "markdown",
   "metadata": {
    "slideshow": {
     "slide_type": "subslide"
    }
   },
   "source": [
    "### The gradient descent path from last lecture\n",
    "<center><img src=\"figures/cost_function_with_path.png\" width=\"600\"></center>"
   ]
  },
  {
   "cell_type": "markdown",
   "metadata": {
    "slideshow": {
     "slide_type": "slide"
    }
   },
   "source": [
    "## <font color='LIGHTGRAY'>Regularization and Logistic Regression</font>\n",
    "\n",
    "<font color='LIGHTGRAY'>By the end of this lecture, you will be able to</font>\n",
    "- **Describe why regularization is important and what are the two types of regularization**\n",
    "- <font color='LIGHTGRAY'>Describe the logistic regression model</font>\n",
    "- <font color='LIGHTGRAY'>Describe the cost function with and without regularization in logistic regression</font>\n"
   ]
  },
  {
   "cell_type": "markdown",
   "metadata": {
    "slideshow": {
     "slide_type": "slide"
    }
   },
   "source": [
    "## Let's revisit the bias-variance tradeoff example from lecture 2!"
   ]
  },
  {
   "cell_type": "code",
   "execution_count": 4,
   "metadata": {
    "slideshow": {
     "slide_type": "-"
    }
   },
   "outputs": [],
   "source": [
    "# load packages and generate data\n",
    "import numpy as np\n",
    "import matplotlib.pyplot as plt\n",
    "import pandas as pd\n",
    "import matplotlib\n",
    "matplotlib.rcParams.update({'font.size': 16})\n",
    "\n",
    "# the true function to generate y (gaussian noise is added later)\n",
    "def true_fun(X):\n",
    "    return np.cos(1.5 * np.pi * X)\n",
    "\n",
    "# fix the seed so code is reproducable\n",
    "np.random.seed(10)\n",
    "\n",
    "# generate n_samples points\n",
    "n_samples = 40\n",
    "\n",
    "# generate data\n",
    "x = np.random.rand(n_samples)\n",
    "y = true_fun(x) + np.random.randn(n_samples) * 0.1 # noise added here"
   ]
  },
  {
   "cell_type": "code",
   "execution_count": 5,
   "metadata": {
    "slideshow": {
     "slide_type": "subslide"
    }
   },
   "outputs": [
    {
     "name": "stdout",
     "output_type": "stream",
     "text": [
      "         x1        x2        x3            x4            x5            x6  \\\n",
      "0  0.771321  0.594936  0.458886  3.539483e-01  2.730076e-01  2.105764e-01   \n",
      "1  0.020752  0.000431  0.000009  1.854537e-07  3.848527e-09  7.986443e-11   \n",
      "2  0.633648  0.401510  0.254416  1.612103e-01  1.021507e-01  6.472758e-02   \n",
      "3  0.748804  0.560707  0.419860  3.143926e-01  2.354184e-01  1.762822e-01   \n",
      "4  0.498507  0.248509  0.123884  6.175684e-02  3.078622e-02  1.534715e-02   \n",
      "\n",
      "             x7            x8            x9           x10         y  \n",
      "0  1.624219e-01  1.252794e-01  9.663058e-02  7.453316e-02 -0.749989  \n",
      "1  1.657343e-12  3.439309e-14  7.137237e-16  1.481116e-17  1.014724  \n",
      "2  4.101452e-02  2.598878e-02  1.646774e-02  1.043476e-02 -0.947898  \n",
      "3  1.320008e-01  9.884272e-02  7.401381e-02  5.542183e-02 -0.959785  \n",
      "4  7.650660e-03  3.813908e-03  1.901260e-03  9.477913e-04 -0.576467  \n"
     ]
    }
   ],
   "source": [
    "df = pd.DataFrame()\n",
    "n_ftrs = 10\n",
    "for i in range(n_ftrs):\n",
    "    df['x'+str(i+1)] = x**(i+1)\n",
    "df['y'] = y\n",
    "print(df.head())\n",
    "df.to_csv('data/regression_example.csv',index=False)"
   ]
  },
  {
   "cell_type": "markdown",
   "metadata": {
    "slideshow": {
     "slide_type": "subslide"
    }
   },
   "source": [
    "## We split data into train and test!"
   ]
  },
  {
   "cell_type": "code",
   "execution_count": 6,
   "metadata": {},
   "outputs": [
    {
     "name": "stdout",
     "output_type": "stream",
     "text": [
      "(32, 10) (32,)\n",
      "(8, 10) (8,)\n"
     ]
    }
   ],
   "source": [
    "from sklearn.model_selection import train_test_split\n",
    "X = df.loc[:,df.columns != 'y']\n",
    "y = df['y']\n",
    "X_train, X_test, y_train, y_test = train_test_split(X.values, y.values, test_size=0.2, random_state=0)\n",
    "print(np.shape(X_train),np.shape(y_train))\n",
    "print(np.shape(X_test),np.shape(y_test))"
   ]
  },
  {
   "cell_type": "markdown",
   "metadata": {
    "slideshow": {
     "slide_type": "subslide"
    }
   },
   "source": [
    "## Train linear regression models on n features, check train and test scores"
   ]
  },
  {
   "cell_type": "code",
   "execution_count": 18,
   "metadata": {},
   "outputs": [],
   "source": [
    "from sklearn.linear_model import LinearRegression\n",
    "from sklearn.metrics import mean_squared_error\n",
    "from sklearn.preprocessing import StandardScaler\n",
    "# arrays to save train and test MSE scores\n",
    "train_MSE = np.zeros(n_ftrs)\n",
    "test_MSE = np.zeros(n_ftrs)\n",
    "thetas = []\n",
    "# do the fit\n",
    "for i in range(n_ftrs):\n",
    "    # load the linear regression model\n",
    "    lin_reg = LinearRegression()\n",
    "    lin_reg.fit(X_train[:,:i+1], y_train)\n",
    "    thetas.append(lin_reg.coef_)\n",
    "    # train and test scores\n",
    "    train_MSE[i] = mean_squared_error(y_train,lin_reg.predict(X_train[:,:i+1]))\n",
    "    test_MSE[i] = mean_squared_error(y_test,lin_reg.predict(X_test[:,:i+1]))\n"
   ]
  },
  {
   "cell_type": "code",
   "execution_count": 19,
   "metadata": {
    "slideshow": {
     "slide_type": "subslide"
    }
   },
   "outputs": [
    {
     "data": {
      "image/png": "[encoded data removed]",
      "text/plain": [
       "<Figure size 432x288 with 1 Axes>"
      ]
     },
     "metadata": {
      "needs_background": "light"
     },
     "output_type": "display_data"
    }
   ],
   "source": [
    "import matplotlib.pyplot as plt\n",
    "matplotlib.rcParams.update({'font.size': 16})\n",
    "\n",
    "plt.plot(range(1,n_ftrs+1),train_MSE,label='train score')\n",
    "plt.plot(range(1,n_ftrs+1),test_MSE,label='test score')\n",
    "plt.semilogy()\n",
    "plt.xlabel('nr of features used')\n",
    "plt.ylabel('MSE cost function')\n",
    "plt.legend()\n",
    "plt.savefig('figures/train_test_MSE.png',dpi=300)\n",
    "plt.show()"
   ]
  },
  {
   "cell_type": "markdown",
   "metadata": {
    "slideshow": {
     "slide_type": "slide"
    }
   },
   "source": [
    "## Exercise 1\n",
    "Based on the MSE scores or the figure, how many polynomials should we use for best tradeoff between bias and variance?"
   ]
  },
  {
   "cell_type": "code",
   "execution_count": null,
   "metadata": {},
   "outputs": [],
   "source": []
  },
  {
   "cell_type": "markdown",
   "metadata": {
    "slideshow": {
     "slide_type": "slide"
    }
   },
   "source": [
    "### 1) We can't just keep adding features like this with a realistic dataset\n",
    "- the house price dataset: in what order would we add the features?\n",
    "- the feautres there are not polynomials of the first feature\n",
    "- we want to use all the features and not a subset!"
   ]
  },
  {
   "cell_type": "markdown",
   "metadata": {
    "slideshow": {
     "slide_type": "subslide"
    }
   },
   "source": [
    "### 2) Overfitting manifests as large theta values"
   ]
  },
  {
   "cell_type": "code",
   "execution_count": 6,
   "metadata": {
    "slideshow": {
     "slide_type": "-"
    }
   },
   "outputs": [
    {
     "name": "stdout",
     "output_type": "stream",
     "text": [
      "[-2.30703339]\n",
      "[-6.40614035  4.57385802]\n",
      "[-1.18150122 -9.53780742 10.09245881]\n",
      "[  1.36913193 -22.70537131  32.58938287 -12.16262094]\n",
      "[  0.57994793 -16.30253089  13.8266015   10.59836495  -9.74311575]\n",
      "[ 4.97140825e-02 -9.87378152e+00 -1.57180115e+01  7.25378065e+01\n",
      " -6.97831281e+01  2.18483991e+01]\n",
      "[  -1.24661631   11.14286961 -148.53762066  478.12449236 -710.79377441\n",
      "  526.89836431 -156.88203718]\n",
      "[ 1.35948171e+00 -4.33033982e+01  3.10768847e+02 -1.47288328e+03\n",
      "  3.84201587e+03 -5.39329205e+03  3.86416357e+03 -1.11130401e+03]\n",
      "[-2.72085829e+00  6.43199432e+01 -8.47990819e+02  4.91524121e+03\n",
      " -1.61282963e+04  3.14680874e+04 -3.59250256e+04  2.21080524e+04\n",
      " -5.65666720e+03]\n",
      "[ 4.17079421e+00 -1.55311357e+02  2.06039159e+03 -1.52517148e+04\n",
      "  6.54870321e+04 -1.71441833e+05  2.78004690e+05 -2.72404094e+05\n",
      "  1.47647841e+05 -3.39634490e+04]\n"
     ]
    }
   ],
   "source": [
    "for theta in thetas:\n",
    "    print(theta)"
   ]
  },
  {
   "cell_type": "markdown",
   "metadata": {
    "slideshow": {
     "slide_type": "subslide"
    }
   },
   "source": [
    "## Regularization to the rescue!\n",
    "- let's change the cost function and add a <font color='RED'>penalty term</font> for large thetas\n",
    "- **Lasso regression**: regularize using the l1 norm of theta:\n",
    "   \n",
    "<center>$L(\\theta) = \\frac{1}{n}\\sum_{i=1}^{n}[(\\theta_0 + \\sum_{j=1}^{m} \\theta_j  x_{ij}- y_i)^2] + \\color{red}{ \\frac{\\alpha}{m} \\sum_{j=0}^{m}|\\theta_j|}$</center>   \n",
    "   \n",
    "- **Ridge regression**: regularize using the l2 norm of theta:\n",
    "   \n",
    "<center>$L(\\theta) = \\frac{1}{n}\\sum_{i=1}^{n}[(\\theta_0 + \\sum_{j=1}^{m} \\theta_j  x_{ij}- y_i)^2] + \\color{red}{\\frac{\\alpha}{m} \\sum_{j=0}^{m} \\theta_j^2}$</center>\n",
    "\n",
    "- $\\alpha$ is the regularization parameter (positive number), it describes how much we penalize large thetas\n",
    "\n",
    "- With the cost function changed, the derivatives in gradient descent need to be updated too!"
   ]
  },
  {
   "cell_type": "markdown",
   "metadata": {
    "slideshow": {
     "slide_type": "subslide"
    }
   },
   "source": [
    "## Feature selection with Lasso regularization\n",
    "- Least Absolute Shrinkage and Selection Operator\n",
    "- cost = MSE + $\\alpha$ * l1 norm of $\\theta$\n",
    "<center>$L(\\theta) = \\frac{1}{n}\\sum_{i=1}^{n}[(\\theta_0 + \\sum_{j=1}^{m} \\theta_j  x_{ij}- y_i)^2] + \\color{red}{ \\frac{\\alpha}{m} \\sum_{j=0}^{m}|\\theta_j|}$</center>  \n",
    "- ideal for feature selection\n",
    "- as $\\alpha$ increases, more and more feature weights are reduced to 0."
   ]
  },
  {
   "cell_type": "code",
   "execution_count": 20,
   "metadata": {
    "slideshow": {
     "slide_type": "subslide"
    }
   },
   "outputs": [
    {
     "name": "stderr",
     "output_type": "stream",
     "text": [
      "/anaconda3/envs/datasci_v0.0.2_local4.yml/lib/python3.6/site-packages/sklearn/linear_model/coordinate_descent.py:475: ConvergenceWarning: Objective did not converge. You might want to increase the number of iterations. Duality gap: 0.05479910836324398, tolerance: 0.0018115588446257847\n",
      "  positive)\n",
      "/anaconda3/envs/datasci_v0.0.2_local4.yml/lib/python3.6/site-packages/sklearn/linear_model/coordinate_descent.py:475: ConvergenceWarning: Objective did not converge. You might want to increase the number of iterations. Duality gap: 0.05027836095101662, tolerance: 0.0018115588446257847\n",
      "  positive)\n",
      "/anaconda3/envs/datasci_v0.0.2_local4.yml/lib/python3.6/site-packages/sklearn/linear_model/coordinate_descent.py:475: ConvergenceWarning: Objective did not converge. You might want to increase the number of iterations. Duality gap: 0.043713391094030045, tolerance: 0.0018115588446257847\n",
      "  positive)\n",
      "/anaconda3/envs/datasci_v0.0.2_local4.yml/lib/python3.6/site-packages/sklearn/linear_model/coordinate_descent.py:475: ConvergenceWarning: Objective did not converge. You might want to increase the number of iterations. Duality gap: 0.035243566759739484, tolerance: 0.0018115588446257847\n",
      "  positive)\n",
      "/anaconda3/envs/datasci_v0.0.2_local4.yml/lib/python3.6/site-packages/sklearn/linear_model/coordinate_descent.py:475: ConvergenceWarning: Objective did not converge. You might want to increase the number of iterations. Duality gap: 0.02535370465904037, tolerance: 0.0018115588446257847\n",
      "  positive)\n",
      "/anaconda3/envs/datasci_v0.0.2_local4.yml/lib/python3.6/site-packages/sklearn/linear_model/coordinate_descent.py:475: ConvergenceWarning: Objective did not converge. You might want to increase the number of iterations. Duality gap: 0.012271690979467592, tolerance: 0.0018115588446257847\n",
      "  positive)\n",
      "/anaconda3/envs/datasci_v0.0.2_local4.yml/lib/python3.6/site-packages/sklearn/linear_model/coordinate_descent.py:475: ConvergenceWarning: Objective did not converge. You might want to increase the number of iterations. Duality gap: 0.00531704423971327, tolerance: 0.0018115588446257847\n",
      "  positive)\n",
      "/anaconda3/envs/datasci_v0.0.2_local4.yml/lib/python3.6/site-packages/sklearn/linear_model/coordinate_descent.py:475: ConvergenceWarning: Objective did not converge. You might want to increase the number of iterations. Duality gap: 0.0031464581436217998, tolerance: 0.0018115588446257847\n",
      "  positive)\n"
     ]
    }
   ],
   "source": [
    "from  sklearn.linear_model import Lasso\n",
    "from sklearn.metrics import mean_squared_error\n",
    "\n",
    "alpha = np.logspace(-5,0,21)\n",
    "thetas = []\n",
    "\n",
    "# do the fit\n",
    "for i in range(len(alpha)):\n",
    "    # load the linear regression model\n",
    "    lin_reg = Lasso(alpha=alpha[i])\n",
    "    lin_reg.fit(X_train, y_train)\n",
    "    thetas.append(lin_reg.coef_)"
   ]
  },
  {
   "cell_type": "code",
   "execution_count": 21,
   "metadata": {
    "slideshow": {
     "slide_type": "subslide"
    }
   },
   "outputs": [
    {
     "data": {
      "image/png": "[encoded data removed]",
      "text/plain": [
       "<Figure size 432x288 with 1 Axes>"
      ]
     },
     "metadata": {
      "needs_background": "light"
     },
     "output_type": "display_data"
    }
   ],
   "source": [
    "plt.plot(alpha, thetas)\n",
    "plt.semilogx()\n",
    "plt.xlabel('alpha')\n",
    "plt.ylabel('thetas')\n",
    "plt.title('Lasso regression')\n",
    "plt.savefig('figures/lasso_coefs.png',dpi=300)\n",
    "plt.show()"
   ]
  },
  {
   "cell_type": "markdown",
   "metadata": {
    "slideshow": {
     "slide_type": "slide"
    }
   },
   "source": [
    "## Exercise 2\n",
    "How many features are selected if $\\alpha = 10^{-4}$?"
   ]
  },
  {
   "cell_type": "code",
   "execution_count": null,
   "metadata": {},
   "outputs": [],
   "source": []
  },
  {
   "cell_type": "markdown",
   "metadata": {
    "slideshow": {
     "slide_type": "subslide"
    }
   },
   "source": [
    "## The bias-variance tradeoff with Ridge regularization\n",
    "- cost = MSE + $\\alpha$ * l2 norm of $\\theta$\n",
    "<center>$L(\\theta) = \\frac{1}{n}\\sum_{i=1}^{n}[(\\theta_0 + \\sum_{j=1}^{m} \\theta_j  x_{ij}- y_i)^2] + \\color{red}{\\frac{\\alpha}{m} \\sum_{j=0}^{m} \\theta_j^2}$</center>\n",
    "\n",
    "- as $\\alpha$ approaches 0, we reproduce the linear regression weights\n",
    "- small $\\alpha$ creates high variance\n",
    "- large $\\alpha$ creates high bias"
   ]
  },
  {
   "cell_type": "markdown",
   "metadata": {},
   "source": [
    "## Note:  Ridge can't be used for feature selection, because theta will not be zero. "
   ]
  },
  {
   "cell_type": "code",
   "execution_count": 7,
   "metadata": {
    "slideshow": {
     "slide_type": "subslide"
    }
   },
   "outputs": [],
   "source": [
    "from  sklearn.linear_model import Ridge\n",
    "from sklearn.metrics import mean_squared_error\n",
    "\n",
    "alpha = np.logspace(-16,1,100)\n",
    "\n",
    "# arrays to save train and test MSE scores\n",
    "train_MSE = np.zeros(len(alpha))\n",
    "test_MSE = np.zeros(len(alpha))\n",
    "\n",
    "thetas = []\n",
    "\n",
    "# do the fit\n",
    "for i in range(len(alpha)):\n",
    "    # load the linear regression model\n",
    "    lin_reg = Ridge(alpha=alpha[i])\n",
    "    lin_reg.fit(X_train, y_train)\n",
    "    thetas.append(lin_reg.coef_)\n",
    "    # train and test scores\n",
    "    train_MSE[i] = mean_squared_error(y_train,lin_reg.predict(X_train))\n",
    "    test_MSE[i] = mean_squared_error(y_test,lin_reg.predict(X_test))"
   ]
  },
  {
   "cell_type": "code",
   "execution_count": 8,
   "metadata": {
    "slideshow": {
     "slide_type": "subslide"
    }
   },
   "outputs": [
    {
     "data": {
      "image/png": "[encoded data removed]",
      "text/plain": [
       "<Figure size 432x288 with 1 Axes>"
      ]
     },
     "metadata": {
      "needs_background": "light"
     },
     "output_type": "display_data"
    }
   ],
   "source": [
    "plt.plot(alpha[-30:], thetas[-30:]) # plt.plot(alpha[-30:], thetas[-30:])\n",
    "plt.semilogx()\n",
    "plt.xlabel('alpha')\n",
    "plt.ylabel('thetas')\n",
    "plt.ylim(-200, 200)\n",
    "plt.xlim(10^(-14), 200)\n",
    "plt.title('Ridge regression')\n",
    "plt.savefig('figures/ridge_coefs.png',dpi=300)\n",
    "plt.show()"
   ]
  },
  {
   "cell_type": "code",
   "execution_count": 9,
   "metadata": {
    "slideshow": {
     "slide_type": "subslide"
    }
   },
   "outputs": [
    {
     "data": {
      "image/png": "[encoded data removed]",
      "text/plain": [
       "<Figure size 432x288 with 1 Axes>"
      ]
     },
     "metadata": {
      "needs_background": "light"
     },
     "output_type": "display_data"
    }
   ],
   "source": [
    "plt.plot(alpha,train_MSE,label='train score')\n",
    "plt.plot(alpha,test_MSE,label='test score')\n",
    "plt.semilogy()\n",
    "plt.semilogx()\n",
    "plt.xlabel('alpha')\n",
    "plt.ylabel('MSE cost function')\n",
    "plt.legend()\n",
    "plt.savefig('figures/train_test_MSE_ridge.png',dpi=300)\n",
    "plt.show()"
   ]
  },
  {
   "cell_type": "markdown",
   "metadata": {
    "slideshow": {
     "slide_type": "subslide"
    }
   },
   "source": [
    "## Exercise 3\n",
    "Which $\\alpha$ gives us the best tradeoff between bias and variance?"
   ]
  },
  {
   "cell_type": "code",
   "execution_count": 21,
   "metadata": {},
   "outputs": [
    {
     "data": {
      "text/plain": [
       "0.002477076355991714"
      ]
     },
     "execution_count": 21,
     "metadata": {},
     "output_type": "execute_result"
    }
   ],
   "source": [
    "alpha[78]"
   ]
  },
  {
   "cell_type": "code",
   "execution_count": 24,
   "metadata": {},
   "outputs": [
    {
     "data": {
      "text/plain": [
       "0.002477076355991714"
      ]
     },
     "execution_count": 24,
     "metadata": {},
     "output_type": "execute_result"
    }
   ],
   "source": [
    "alpha[np.argmin(test_MSE)]"
   ]
  },
  {
   "cell_type": "markdown",
   "metadata": {
    "slideshow": {
     "slide_type": "slide"
    }
   },
   "source": [
    "## <font color='LIGHTGRAY'>Regularization and Logistic Regression</font>\n",
    "\n",
    "<font color='LIGHTGRAY'>By the end of this lecture, you will be able to</font>\n",
    "- <font color='LIGHTGRAY'>Describe why regularization is important and what are the two types of regularization</font>\n",
    "- **Describe the logistic regression model**\n",
    "- <font color='LIGHTGRAY'>Describe the cost function with and without regularization in logistic regression</font>\n"
   ]
  },
  {
   "cell_type": "markdown",
   "metadata": {
    "slideshow": {
     "slide_type": "slide"
    }
   },
   "source": [
    "## Logistic regression\n",
    "- name is misleading, logistic regression is for classification problems!\n",
    "- **Question 1: What is the mathematical model?**\n",
    "\n",
    "<center>$y_i' = \\frac{1}{1+e^{-z}}$, where</center>\n",
    "<center>$z = \\theta_0 + \\sum_{j=1}^{m} \\theta_j  x_{ij}$</center>\n",
    "$f(z) = \\frac{1}{1+e^{-z}}$ is the sigmoid function.\n"
   ]
  },
  {
   "cell_type": "code",
   "execution_count": 25,
   "metadata": {
    "slideshow": {
     "slide_type": "subslide"
    }
   },
   "outputs": [
    {
     "data": {
      "image/png": "[encoded data removed]",
      "text/plain": [
       "<Figure size 432x288 with 1 Axes>"
      ]
     },
     "metadata": {
      "needs_background": "light"
     },
     "output_type": "display_data"
    }
   ],
   "source": [
    "def sigmoid(z):\n",
    "    return 1/(1+np.exp(-z))\n",
    "z = np.linspace(-7,7,50)\n",
    "plt.plot(z,sigmoid(z))\n",
    "plt.xlabel('input of linear regression')\n",
    "plt.ylabel('predicted probability')\n",
    "plt.title('sigmoid transformation')\n",
    "plt.savefig('figures/sigmoid_trans.png',dpi=300)\n",
    "plt.show()"
   ]
  },
  {
   "cell_type": "markdown",
   "metadata": {
    "slideshow": {
     "slide_type": "slide"
    }
   },
   "source": [
    "## <font color='LIGHTGRAY'>Regularization and Logistic Regression</font>\n",
    "\n",
    "<font color='LIGHTGRAY'>By the end of this lecture, you will be able to</font>\n",
    "- <font color='LIGHTGRAY'>Describe why regularization is important and what are the two types of regularization</font>\n",
    "- <font color='LIGHTGRAY'>Describe the logistic regression model</font>\n",
    "- **Describe the cost function with and without regularization in logistic regression**\n"
   ]
  },
  {
   "cell_type": "markdown",
   "metadata": {
    "slideshow": {
     "slide_type": "subslide"
    }
   },
   "source": [
    "## Logistic regression\n",
    "- **Question 2: What is the cost function?**\n",
    "   - the logloss metric for plain logistic regression\n",
    "\n",
    "<center>$L(\\theta) = - \\frac{1}{N}\\sum_{i=1}^{n} [y_i\\ln(y_i') + (1-y_i)\\ln(1-y_i')]$ </center>\n",
    "<center>$L(\\theta) =  - \\frac{1}{N}\\sum_{i=1}^{n} [y_i\\ln(\\frac{1}{1+e^{-\\theta_0 + \\sum_{j=1}^{m} \\theta_j  x_{ij}}}) + (1-y_i)\\ln(1-\\frac{1}{1+e^{-\\theta_0 + \\sum_{j=1}^{m} \\theta_j  x_{ij}}})]$</center>"
   ]
  },
  {
   "cell_type": "markdown",
   "metadata": {
    "slideshow": {
     "slide_type": "subslide"
    }
   },
   "source": [
    "   - the logloss metric with l1 regularization\n",
    "\n",
    "<center>$L(\\theta) = - \\frac{1}{N}\\sum_{i=1}^{n} [y_i\\ln(\\frac{1}{1+e^{-\\theta_0 + \\sum_{j=1}^{m} \\theta_j  x_{ij}}}) + (1-y_i)\\ln(1-\\frac{1}{1+e^{-\\theta_0 + \\sum_{j=1}^{m} \\theta_j  x_{ij}}}))] + \\color{red}{ \\frac{\\alpha}{m} \\sum_{j=0}^{m}|\\theta_j|}$</center>\n",
    "\n",
    "   - the logloss metric with l2 regularization\n",
    "\n",
    "<center>$L(\\theta) = - \\frac{1}{N}\\sum_{i=1}^{n} [y_i\\ln(\\frac{1}{1+e^{-\\theta_0 + \\sum_{j=1}^{m} \\theta_j  x_{ij}}}) + (1-y_i)\\ln(1-\\frac{1}{1+e^{-\\theta_0 + \\sum_{j=1}^{m} \\theta_j  x_{ij}}}))] + \\color{red}{\\frac{\\alpha}{m} \\sum_{j=0}^{m} \\theta_j^2}$</center>\n",
    "\n",
    "- **Question 3: What algorithm do we use to find the best $\\theta$?**\n",
    "   - gradient descent"
   ]
  },
  {
   "cell_type": "markdown",
   "metadata": {
    "slideshow": {
     "slide_type": "subslide"
    }
   },
   "source": [
    "## Logistic regression in sklearn"
   ]
  },
  {
   "cell_type": "code",
   "execution_count": 13,
   "metadata": {},
   "outputs": [],
   "source": [
    "from sklearn.linear_model import LogisticRegression\n",
    "\n",
    "log_reg_l1 = LogisticRegression(penalty='l1', C = 1/alpha)\n",
    "log_reg_l2 = LogisticRegression(penalty='l2', C = 1/alpha)\n",
    "# fit, predict, predict_proba are available \n",
    "# log_reg.coef_ returns the theta values\n"
   ]
  },
  {
   "cell_type": "markdown",
   "metadata": {
    "slideshow": {
     "slide_type": "slide"
    }
   },
   "source": [
    "By now, you can\n",
    "- Describe why regularization is important and what are the two types of regularization\n",
    "- Describe the logistic regression model\n",
    "- Describe the cost function with and without regularization in logistic regression\n"
   ]
  }
 ],
 "metadata": {
  "celltoolbar": "Slideshow",
  "kernelspec": {
   "display_name": "Python 3",
   "language": "python",
   "name": "python3"
  },
  "language_info": {
   "codemirror_mode": {
    "name": "ipython",
    "version": 3
   },
   "file_extension": ".py",
   "mimetype": "text/x-python",
   "name": "python",
   "nbconvert_exporter": "python",
   "pygments_lexer": "ipython3",
   "version": "3.7.3"
  }
 },
 "nbformat": 4,
 "nbformat_minor": 4
}
